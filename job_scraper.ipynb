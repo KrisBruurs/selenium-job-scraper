{
 "cells": [
  {
   "cell_type": "code",
   "execution_count": 53,
   "id": "08fb5320-5ffa-43ec-8a5b-e69bcad253de",
   "metadata": {},
   "outputs": [],
   "source": [
    "import undetected_chromedriver as uc\n",
    "from selenium.webdriver.common.by import By\n",
    "from selenium.webdriver.support.ui import WebDriverWait\n",
    "from selenium.webdriver.support import expected_conditions as EC\n",
    "import time\n",
    "import random"
   ]
  },
  {
   "cell_type": "code",
   "execution_count": 54,
   "id": "ab523ab0-a19a-4427-9368-d6b7b7b6f863",
   "metadata": {},
   "outputs": [
    {
     "name": "stdout",
     "output_type": "stream",
     "text": [
      "Scraping page 1\n",
      "Found 51 job listings on page 1\n",
      "Scraping page 2\n",
      "Found 51 job listings on page 2\n",
      "Scraping page 3\n",
      "Found 51 job listings on page 3\n",
      "\n",
      "Total job links scraped: 153\n"
     ]
    }
   ],
   "source": [
    "# Setup undetected Chrome\n",
    "options = uc.ChromeOptions()\n",
    "options.add_argument(\"--no-sandbox\")\n",
    "options.add_argument(\"--disable-dev-shm-usage\")\n",
    "options.add_argument(\"--disable-blink-features=AutomationControlled\")\n",
    "\n",
    "driver = uc.Chrome(options=options)\n",
    "\n",
    "# Pages to scrape\n",
    "urls = [\n",
    "    'https://weworkremotely.com/top-trending-remote-jobs?page=1',\n",
    "    'https://weworkremotely.com/top-trending-remote-jobs?page=2',\n",
    "    'https://weworkremotely.com/top-trending-remote-jobs?page=3'\n",
    "]\n",
    "\n",
    "all_job_links = []\n",
    "\n",
    "for index, url in enumerate(urls):\n",
    "    driver.get(url)\n",
    "    print(f\"Scraping page {index + 1}\")\n",
    "\n",
    "    # Accept cookies (first page only)\n",
    "    if index == 0:\n",
    "        try:\n",
    "            WebDriverWait(driver, 10).until(EC.element_to_be_clickable((By.CLASS_NAME, 'adroll_button_text'))).click()\n",
    "            WebDriverWait(driver, 10).until(EC.element_to_be_clickable((By.ID, 'adroll_consent_allow_all'))).click()\n",
    "            WebDriverWait(driver, 10).until(EC.element_to_be_clickable((By.CLASS_NAME, 'fc-button'))).click()\n",
    "        except:\n",
    "            print(\"Cookie buttons not found or already accepted.\")\n",
    "\n",
    "    # Scroll to bottom\n",
    "    driver.execute_script(\"window.scrollTo(0, document.body.scrollHeight);\")\n",
    "    time.sleep(random.uniform(3, 6))\n",
    "\n",
    "    # Scrape job links\n",
    "    job_links = driver.find_elements(By.CSS_SELECTOR, \"section.jobs li > a\")\n",
    "    print(f\"Found {len(job_links)} job listings on page {index + 1}\")\n",
    "    all_job_links.extend(job_links)\n",
    "\n",
    "print(f\"\\nTotal job links scraped: {len(all_job_links)}\")\n",
    "driver.quit()"
   ]
  }
 ],
 "metadata": {
  "kernelspec": {
   "display_name": "Python 3 (ipykernel)",
   "language": "python",
   "name": "python3"
  },
  "language_info": {
   "codemirror_mode": {
    "name": "ipython",
    "version": 3
   },
   "file_extension": ".py",
   "mimetype": "text/x-python",
   "name": "python",
   "nbconvert_exporter": "python",
   "pygments_lexer": "ipython3",
   "version": "3.12.7"
  }
 },
 "nbformat": 4,
 "nbformat_minor": 5
}
