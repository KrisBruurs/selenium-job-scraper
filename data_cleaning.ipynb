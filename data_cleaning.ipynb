{
 "cells": [
  {
   "cell_type": "code",
   "execution_count": 32,
   "id": "9bbf6aa4-a4c8-40e1-8785-ae5c700d2099",
   "metadata": {},
   "outputs": [],
   "source": [
    "import pandas as pd\n",
    "import numpy as np\n",
    "\n",
    "df = pd.read_csv('top_trending_jobs.csv')\n",
    "\n",
    "# Clean company names\n",
    "df['Company'] = df['Company'].str.replace('\\n', ' ', regex=False).str.strip()\n",
    "\n",
    "# Clean salary column\n",
    "\n",
    "# Use regex to extract numbers from the salary string\n",
    "# It handles formats like \"$X - $Y\" and \"$X or more\"\n",
    "salary_extracted = df['Salary'].str.extract(r'\\$(\\d{1,3}(?:,\\d{3})*)\\s*(?:-\\s*\\$(\\d{1,3}(?:,\\d{3})*))?.*')\n",
    "\n",
    "# Rename the new columns\n",
    "salary_extracted.columns = ['min_salary', 'max_salary']\n",
    "\n",
    "# Convert extracted columns to numeric, removing commas first\n",
    "for col in salary_extracted.columns:\n",
    "    salary_extracted[col] = salary_extracted[col].str.replace(',', '', regex=False)\n",
    "    salary_extracted[col] = pd.to_numeric(salary_extracted[col], errors='coerce')\n",
    "\n",
    "# For entries like \"$100,000 or more\", max_salary will be NaN.\n",
    "# We can fill the max_salary with the min_salary value in these cases.\n",
    "salary_extracted['max_salary'] = salary_extracted['max_salary'].fillna(salary_extracted['min_salary'])\n",
    "\n",
    "\n",
    "# Add the new numeric salary columns to the main DataFrame\n",
    "df = pd.concat([df, salary_extracted], axis=1)\n",
    "\n",
    "df['average_salary'] = df[['min_salary', 'max_salary']].mean(axis=1)\n",
    "\n",
    "df.to_csv('cleaned_data', index=False)"
   ]
  }
 ],
 "metadata": {
  "kernelspec": {
   "display_name": "Python 3 (ipykernel)",
   "language": "python",
   "name": "python3"
  },
  "language_info": {
   "codemirror_mode": {
    "name": "ipython",
    "version": 3
   },
   "file_extension": ".py",
   "mimetype": "text/x-python",
   "name": "python",
   "nbconvert_exporter": "python",
   "pygments_lexer": "ipython3",
   "version": "3.12.7"
  }
 },
 "nbformat": 4,
 "nbformat_minor": 5
}
