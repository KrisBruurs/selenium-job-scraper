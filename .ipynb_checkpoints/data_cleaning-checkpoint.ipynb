{
 "cells": [
  {
   "cell_type": "code",
   "execution_count": 1,
   "id": "9bbf6aa4-a4c8-40e1-8785-ae5c700d2099",
   "metadata": {},
   "outputs": [],
   "source": [
    "import pandas as pd"
   ]
  },
  {
   "cell_type": "code",
   "execution_count": 8,
   "id": "f0c834bf-3e31-42fa-8ef3-3301bac153f2",
   "metadata": {},
   "outputs": [],
   "source": [
    "df = pd.read_csv('top_trending_jobs.csv')"
   ]
  },
  {
   "cell_type": "code",
   "execution_count": 10,
   "id": "582df41b-36fa-40c2-918c-c80ccd39a6d7",
   "metadata": {},
   "outputs": [
    {
     "data": {
      "text/html": [
       "<div>\n",
       "<style scoped>\n",
       "    .dataframe tbody tr th:only-of-type {\n",
       "        vertical-align: middle;\n",
       "    }\n",
       "\n",
       "    .dataframe tbody tr th {\n",
       "        vertical-align: top;\n",
       "    }\n",
       "\n",
       "    .dataframe thead th {\n",
       "        text-align: right;\n",
       "    }\n",
       "</style>\n",
       "<table border=\"1\" class=\"dataframe\">\n",
       "  <thead>\n",
       "    <tr style=\"text-align: right;\">\n",
       "      <th></th>\n",
       "      <th>Ranking</th>\n",
       "      <th>Job Title</th>\n",
       "      <th>Company</th>\n",
       "      <th>Jobs Posted</th>\n",
       "      <th>Job Type</th>\n",
       "      <th>Category</th>\n",
       "      <th>Salary</th>\n",
       "      <th>Region</th>\n",
       "      <th>Link</th>\n",
       "    </tr>\n",
       "  </thead>\n",
       "  <tbody>\n",
       "    <tr>\n",
       "      <th>0</th>\n",
       "      <td>1</td>\n",
       "      <td>Account Manager</td>\n",
       "      <td>BBE Marketing Inc</td>\n",
       "      <td>101</td>\n",
       "      <td>Full-Time</td>\n",
       "      <td>Sales and Marketing</td>\n",
       "      <td>NaN</td>\n",
       "      <td>Anywhere in the World</td>\n",
       "      <td>https://weworkremotely.com/remote-jobs/bbe-mar...</td>\n",
       "    </tr>\n",
       "    <tr>\n",
       "      <th>1</th>\n",
       "      <td>2</td>\n",
       "      <td>Tech Lead, Web Core Product &amp; Chrome Extension</td>\n",
       "      <td>Speechify Inc</td>\n",
       "      <td>13</td>\n",
       "      <td>Contract</td>\n",
       "      <td>Front-End Programming</td>\n",
       "      <td>NaN</td>\n",
       "      <td>Anywhere in the World</td>\n",
       "      <td>https://weworkremotely.com/remote-jobs/speechi...</td>\n",
       "    </tr>\n",
       "    <tr>\n",
       "      <th>2</th>\n",
       "      <td>3</td>\n",
       "      <td>UI/UX Designer</td>\n",
       "      <td>Files.com</td>\n",
       "      <td>33</td>\n",
       "      <td>Full-Time</td>\n",
       "      <td>Design</td>\n",
       "      <td>NaN</td>\n",
       "      <td>Latin America Only</td>\n",
       "      <td>https://weworkremotely.com/remote-jobs/files-c...</td>\n",
       "    </tr>\n",
       "    <tr>\n",
       "      <th>3</th>\n",
       "      <td>4</td>\n",
       "      <td>Customer Support: Build the AI that will steal...</td>\n",
       "      <td>Evaboot</td>\n",
       "      <td>1</td>\n",
       "      <td>Contract</td>\n",
       "      <td>Customer Support</td>\n",
       "      <td>NaN</td>\n",
       "      <td>Anywhere in the World</td>\n",
       "      <td>https://weworkremotely.com/remote-jobs/evaboot...</td>\n",
       "    </tr>\n",
       "    <tr>\n",
       "      <th>4</th>\n",
       "      <td>5</td>\n",
       "      <td>Software Engineer, Platform</td>\n",
       "      <td>Speechify Inc</td>\n",
       "      <td>13</td>\n",
       "      <td>Full-Time</td>\n",
       "      <td>All Other Remote</td>\n",
       "      <td>NaN</td>\n",
       "      <td>Anywhere in the World</td>\n",
       "      <td>https://weworkremotely.com/remote-jobs/speechi...</td>\n",
       "    </tr>\n",
       "    <tr>\n",
       "      <th>...</th>\n",
       "      <td>...</td>\n",
       "      <td>...</td>\n",
       "      <td>...</td>\n",
       "      <td>...</td>\n",
       "      <td>...</td>\n",
       "      <td>...</td>\n",
       "      <td>...</td>\n",
       "      <td>...</td>\n",
       "      <td>...</td>\n",
       "    </tr>\n",
       "    <tr>\n",
       "      <th>145</th>\n",
       "      <td>146</td>\n",
       "      <td>Online English Teacher</td>\n",
       "      <td>Pro\\nNative Camp</td>\n",
       "      <td>31</td>\n",
       "      <td>Contract</td>\n",
       "      <td>All Other Remote</td>\n",
       "      <td>NaN</td>\n",
       "      <td>Anywhere in the World</td>\n",
       "      <td>https://weworkremotely.com/remote-jobs/native-...</td>\n",
       "    </tr>\n",
       "    <tr>\n",
       "      <th>146</th>\n",
       "      <td>147</td>\n",
       "      <td>Site Reliability Engineer</td>\n",
       "      <td>Float</td>\n",
       "      <td>64</td>\n",
       "      <td>Full-Time</td>\n",
       "      <td>DevOps and Sysadmin</td>\n",
       "      <td>$100,000 or more USD</td>\n",
       "      <td>Anywhere in the World</td>\n",
       "      <td>https://weworkremotely.com/remote-jobs/float-s...</td>\n",
       "    </tr>\n",
       "    <tr>\n",
       "      <th>147</th>\n",
       "      <td>148</td>\n",
       "      <td>Senior Back-end Architect</td>\n",
       "      <td>Swipe Games</td>\n",
       "      <td>1</td>\n",
       "      <td>Full-Time</td>\n",
       "      <td>Back-End Programming</td>\n",
       "      <td>$75,000 - $99,999 USD</td>\n",
       "      <td>Anywhere in the World</td>\n",
       "      <td>https://weworkremotely.com/remote-jobs/swipe-g...</td>\n",
       "    </tr>\n",
       "    <tr>\n",
       "      <th>148</th>\n",
       "      <td>149</td>\n",
       "      <td>Client Onboarding for Corporate Services (Bank...</td>\n",
       "      <td>Flag Theory</td>\n",
       "      <td>10</td>\n",
       "      <td>Full-Time</td>\n",
       "      <td>Customer Support</td>\n",
       "      <td>NaN</td>\n",
       "      <td>Anywhere in the World</td>\n",
       "      <td>https://weworkremotely.com/remote-jobs/flag-th...</td>\n",
       "    </tr>\n",
       "    <tr>\n",
       "      <th>149</th>\n",
       "      <td>150</td>\n",
       "      <td>Senior Independent Product Manager/Product Des...</td>\n",
       "      <td>A.Team</td>\n",
       "      <td>8</td>\n",
       "      <td>Full-Time</td>\n",
       "      <td>Product</td>\n",
       "      <td>NaN</td>\n",
       "      <td>Anywhere in the World</td>\n",
       "      <td>https://weworkremotely.com/remote-jobs/a-team-...</td>\n",
       "    </tr>\n",
       "  </tbody>\n",
       "</table>\n",
       "<p>150 rows × 9 columns</p>\n",
       "</div>"
      ],
      "text/plain": [
       "     Ranking                                          Job Title  \\\n",
       "0          1                                    Account Manager   \n",
       "1          2     Tech Lead, Web Core Product & Chrome Extension   \n",
       "2          3                                     UI/UX Designer   \n",
       "3          4  Customer Support: Build the AI that will steal...   \n",
       "4          5                        Software Engineer, Platform   \n",
       "..       ...                                                ...   \n",
       "145      146                             Online English Teacher   \n",
       "146      147                          Site Reliability Engineer   \n",
       "147      148                          Senior Back-end Architect   \n",
       "148      149  Client Onboarding for Corporate Services (Bank...   \n",
       "149      150  Senior Independent Product Manager/Product Des...   \n",
       "\n",
       "               Company  Jobs Posted   Job Type               Category  \\\n",
       "0    BBE Marketing Inc          101  Full-Time    Sales and Marketing   \n",
       "1        Speechify Inc           13   Contract  Front-End Programming   \n",
       "2            Files.com           33  Full-Time                 Design   \n",
       "3              Evaboot            1   Contract       Customer Support   \n",
       "4        Speechify Inc           13  Full-Time       All Other Remote   \n",
       "..                 ...          ...        ...                    ...   \n",
       "145   Pro\\nNative Camp           31   Contract       All Other Remote   \n",
       "146              Float           64  Full-Time    DevOps and Sysadmin   \n",
       "147        Swipe Games            1  Full-Time   Back-End Programming   \n",
       "148        Flag Theory           10  Full-Time       Customer Support   \n",
       "149             A.Team            8  Full-Time                Product   \n",
       "\n",
       "                    Salary                 Region  \\\n",
       "0                      NaN  Anywhere in the World   \n",
       "1                      NaN  Anywhere in the World   \n",
       "2                      NaN     Latin America Only   \n",
       "3                      NaN  Anywhere in the World   \n",
       "4                      NaN  Anywhere in the World   \n",
       "..                     ...                    ...   \n",
       "145                    NaN  Anywhere in the World   \n",
       "146   $100,000 or more USD  Anywhere in the World   \n",
       "147  $75,000 - $99,999 USD  Anywhere in the World   \n",
       "148                    NaN  Anywhere in the World   \n",
       "149                    NaN  Anywhere in the World   \n",
       "\n",
       "                                                  Link  \n",
       "0    https://weworkremotely.com/remote-jobs/bbe-mar...  \n",
       "1    https://weworkremotely.com/remote-jobs/speechi...  \n",
       "2    https://weworkremotely.com/remote-jobs/files-c...  \n",
       "3    https://weworkremotely.com/remote-jobs/evaboot...  \n",
       "4    https://weworkremotely.com/remote-jobs/speechi...  \n",
       "..                                                 ...  \n",
       "145  https://weworkremotely.com/remote-jobs/native-...  \n",
       "146  https://weworkremotely.com/remote-jobs/float-s...  \n",
       "147  https://weworkremotely.com/remote-jobs/swipe-g...  \n",
       "148  https://weworkremotely.com/remote-jobs/flag-th...  \n",
       "149  https://weworkremotely.com/remote-jobs/a-team-...  \n",
       "\n",
       "[150 rows x 9 columns]"
      ]
     },
     "execution_count": 10,
     "metadata": {},
     "output_type": "execute_result"
    }
   ],
   "source": [
    "df"
   ]
  },
  {
   "cell_type": "code",
   "execution_count": 18,
   "id": "50df18c6-dbdc-4ca7-99ad-19d5efcc8bbc",
   "metadata": {},
   "outputs": [],
   "source": [
    "unique_categories = df['Category'].value_counts()\n",
    "unique_company = df['Company'].value_counts()\n",
    "unique_job_types = df['Job Type'].value_counts()\n",
    "unique_region = df['Region'].value_counts()"
   ]
  },
  {
   "cell_type": "code",
   "execution_count": 12,
   "id": "3649fc24-dbe3-4e8b-a240-a02b262d0368",
   "metadata": {},
   "outputs": [
    {
     "data": {
      "text/plain": [
       "Category\n",
       "Sales and Marketing       33\n",
       "All Other Remote          27\n",
       "Customer Support          18\n",
       "Full-Stack Programming    18\n",
       "Design                    14\n",
       "Management and Finance    12\n",
       "Product                   11\n",
       "Front-End Programming      7\n",
       "Back-End Programming       6\n",
       "DevOps and Sysadmin        4\n",
       "Name: count, dtype: int64"
      ]
     },
     "execution_count": 12,
     "metadata": {},
     "output_type": "execute_result"
    }
   ],
   "source": [
    "unique_categories"
   ]
  },
  {
   "cell_type": "code",
   "execution_count": 16,
   "id": "ad4da922-ca62-4d8a-b86a-24751569b518",
   "metadata": {},
   "outputs": [
    {
     "data": {
      "text/plain": [
       "Company\n",
       "Proxify AB        6\n",
       "Speechify Inc     4\n",
       "Waifu Masters     3\n",
       "MailerLite        3\n",
       "A.Team            2\n",
       "Flag Theory       2\n",
       "XM                2\n",
       "Creative Force    2\n",
       "Toggl             2\n",
       "Surge             2\n",
       "Name: count, dtype: int64"
      ]
     },
     "execution_count": 16,
     "metadata": {},
     "output_type": "execute_result"
    }
   ],
   "source": [
    "unique_company[:10]"
   ]
  },
  {
   "cell_type": "code",
   "execution_count": 19,
   "id": "ec570929-7281-4e2d-b177-0f374b05fe6a",
   "metadata": {},
   "outputs": [
    {
     "data": {
      "text/plain": [
       "Job Type\n",
       "Full-Time    111\n",
       "Contract      39\n",
       "Name: count, dtype: int64"
      ]
     },
     "execution_count": 19,
     "metadata": {},
     "output_type": "execute_result"
    }
   ],
   "source": [
    "unique_job_types"
   ]
  },
  {
   "cell_type": "code",
   "execution_count": 21,
   "id": "644034e2-1417-4128-a845-4814f2a596bd",
   "metadata": {},
   "outputs": [
    {
     "data": {
      "text/plain": [
       "Region\n",
       "Anywhere in the World    134\n",
       "North America Only         2\n",
       "Latin America Only         1\n",
       "Americas Only              1\n",
       "UK Only                    1\n",
       "Name: count, dtype: int64"
      ]
     },
     "execution_count": 21,
     "metadata": {},
     "output_type": "execute_result"
    }
   ],
   "source": [
    "unique_region"
   ]
  },
  {
   "cell_type": "code",
   "execution_count": 23,
   "id": "6b6ebdc3-6222-4153-b8dc-c397290b8315",
   "metadata": {},
   "outputs": [
    {
     "data": {
      "text/plain": [
       "'https://weworkremotely.com/remote-jobs/evaboot-customer-support-build-the-ai-that-will-steal-your-job'"
      ]
     },
     "execution_count": 23,
     "metadata": {},
     "output_type": "execute_result"
    }
   ],
   "source": [
    "df['Link'][3]"
   ]
  }
 ],
 "metadata": {
  "kernelspec": {
   "display_name": "Python 3 (ipykernel)",
   "language": "python",
   "name": "python3"
  },
  "language_info": {
   "codemirror_mode": {
    "name": "ipython",
    "version": 3
   },
   "file_extension": ".py",
   "mimetype": "text/x-python",
   "name": "python",
   "nbconvert_exporter": "python",
   "pygments_lexer": "ipython3",
   "version": "3.12.7"
  }
 },
 "nbformat": 4,
 "nbformat_minor": 5
}
